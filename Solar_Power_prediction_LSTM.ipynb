{
  "nbformat": 4,
  "nbformat_minor": 0,
  "metadata": {
    "colab": {
      "provenance": [],
      "collapsed_sections": []
    },
    "kernelspec": {
      "name": "python3",
      "display_name": "Python 3"
    },
    "language_info": {
      "name": "python"
    }
  },
  "cells": [
    {
      "cell_type": "code",
      "execution_count": 1,
      "metadata": {
        "id": "bsyf9Vi8_AOk"
      },
      "outputs": [],
      "source": [
        "import numpy as np\n",
        "import pandas as pd\n",
        "import matplotlib.pyplot as plt\n",
        "import seaborn as sns"
      ]
    },
    {
      "cell_type": "code",
      "source": [
        "data = pd.read_csv(\"Solardatanew.csv\")\n",
        "data.head(5)"
      ],
      "metadata": {
        "colab": {
          "base_uri": "https://localhost:8080/",
          "height": 206
        },
        "id": "D9zjion7_tiS",
        "outputId": "be2ef581-2edb-436e-d485-b13fdee67a52"
      },
      "execution_count": 2,
      "outputs": [
        {
          "output_type": "execute_result",
          "data": {
            "text/plain": [
              "  Timestamp   Air_Temp  Relative_Humidity  Solar_Radiation        RTD  \\\n",
              "0   00:00.0  16.335964          92.397792         0.224350  25.034259   \n",
              "1   05:00.0  16.289640          92.693440         0.327011  24.965698   \n",
              "2   10:00.0  16.285664          93.123816         0.277451  24.944859   \n",
              "3   15:00.0  16.281720          93.119280         0.376572  25.003318   \n",
              "4   20:00.0  16.244652          93.557512         0.479233  24.979319   \n",
              "\n",
              "   Array_Voltage  Array_Current  Power_Generated  \n",
              "0       2.640770       5.399288        14.258278  \n",
              "1       2.645897       5.399017        14.285242  \n",
              "2       2.660332       5.398926        14.362932  \n",
              "3       2.148491       5.399197        11.600126  \n",
              "4       2.066124       5.399017        11.155038  "
            ],
            "text/html": [
              "\n",
              "  <div id=\"df-a699aee7-af61-440b-b5d3-6bd19bb04ef0\">\n",
              "    <div class=\"colab-df-container\">\n",
              "      <div>\n",
              "<style scoped>\n",
              "    .dataframe tbody tr th:only-of-type {\n",
              "        vertical-align: middle;\n",
              "    }\n",
              "\n",
              "    .dataframe tbody tr th {\n",
              "        vertical-align: top;\n",
              "    }\n",
              "\n",
              "    .dataframe thead th {\n",
              "        text-align: right;\n",
              "    }\n",
              "</style>\n",
              "<table border=\"1\" class=\"dataframe\">\n",
              "  <thead>\n",
              "    <tr style=\"text-align: right;\">\n",
              "      <th></th>\n",
              "      <th>Timestamp</th>\n",
              "      <th>Air_Temp</th>\n",
              "      <th>Relative_Humidity</th>\n",
              "      <th>Solar_Radiation</th>\n",
              "      <th>RTD</th>\n",
              "      <th>Array_Voltage</th>\n",
              "      <th>Array_Current</th>\n",
              "      <th>Power_Generated</th>\n",
              "    </tr>\n",
              "  </thead>\n",
              "  <tbody>\n",
              "    <tr>\n",
              "      <th>0</th>\n",
              "      <td>00:00.0</td>\n",
              "      <td>16.335964</td>\n",
              "      <td>92.397792</td>\n",
              "      <td>0.224350</td>\n",
              "      <td>25.034259</td>\n",
              "      <td>2.640770</td>\n",
              "      <td>5.399288</td>\n",
              "      <td>14.258278</td>\n",
              "    </tr>\n",
              "    <tr>\n",
              "      <th>1</th>\n",
              "      <td>05:00.0</td>\n",
              "      <td>16.289640</td>\n",
              "      <td>92.693440</td>\n",
              "      <td>0.327011</td>\n",
              "      <td>24.965698</td>\n",
              "      <td>2.645897</td>\n",
              "      <td>5.399017</td>\n",
              "      <td>14.285242</td>\n",
              "    </tr>\n",
              "    <tr>\n",
              "      <th>2</th>\n",
              "      <td>10:00.0</td>\n",
              "      <td>16.285664</td>\n",
              "      <td>93.123816</td>\n",
              "      <td>0.277451</td>\n",
              "      <td>24.944859</td>\n",
              "      <td>2.660332</td>\n",
              "      <td>5.398926</td>\n",
              "      <td>14.362932</td>\n",
              "    </tr>\n",
              "    <tr>\n",
              "      <th>3</th>\n",
              "      <td>15:00.0</td>\n",
              "      <td>16.281720</td>\n",
              "      <td>93.119280</td>\n",
              "      <td>0.376572</td>\n",
              "      <td>25.003318</td>\n",
              "      <td>2.148491</td>\n",
              "      <td>5.399197</td>\n",
              "      <td>11.600126</td>\n",
              "    </tr>\n",
              "    <tr>\n",
              "      <th>4</th>\n",
              "      <td>20:00.0</td>\n",
              "      <td>16.244652</td>\n",
              "      <td>93.557512</td>\n",
              "      <td>0.479233</td>\n",
              "      <td>24.979319</td>\n",
              "      <td>2.066124</td>\n",
              "      <td>5.399017</td>\n",
              "      <td>11.155038</td>\n",
              "    </tr>\n",
              "  </tbody>\n",
              "</table>\n",
              "</div>\n",
              "      <button class=\"colab-df-convert\" onclick=\"convertToInteractive('df-a699aee7-af61-440b-b5d3-6bd19bb04ef0')\"\n",
              "              title=\"Convert this dataframe to an interactive table.\"\n",
              "              style=\"display:none;\">\n",
              "        \n",
              "  <svg xmlns=\"http://www.w3.org/2000/svg\" height=\"24px\"viewBox=\"0 0 24 24\"\n",
              "       width=\"24px\">\n",
              "    <path d=\"M0 0h24v24H0V0z\" fill=\"none\"/>\n",
              "    <path d=\"M18.56 5.44l.94 2.06.94-2.06 2.06-.94-2.06-.94-.94-2.06-.94 2.06-2.06.94zm-11 1L8.5 8.5l.94-2.06 2.06-.94-2.06-.94L8.5 2.5l-.94 2.06-2.06.94zm10 10l.94 2.06.94-2.06 2.06-.94-2.06-.94-.94-2.06-.94 2.06-2.06.94z\"/><path d=\"M17.41 7.96l-1.37-1.37c-.4-.4-.92-.59-1.43-.59-.52 0-1.04.2-1.43.59L10.3 9.45l-7.72 7.72c-.78.78-.78 2.05 0 2.83L4 21.41c.39.39.9.59 1.41.59.51 0 1.02-.2 1.41-.59l7.78-7.78 2.81-2.81c.8-.78.8-2.07 0-2.86zM5.41 20L4 18.59l7.72-7.72 1.47 1.35L5.41 20z\"/>\n",
              "  </svg>\n",
              "      </button>\n",
              "      \n",
              "  <style>\n",
              "    .colab-df-container {\n",
              "      display:flex;\n",
              "      flex-wrap:wrap;\n",
              "      gap: 12px;\n",
              "    }\n",
              "\n",
              "    .colab-df-convert {\n",
              "      background-color: #E8F0FE;\n",
              "      border: none;\n",
              "      border-radius: 50%;\n",
              "      cursor: pointer;\n",
              "      display: none;\n",
              "      fill: #1967D2;\n",
              "      height: 32px;\n",
              "      padding: 0 0 0 0;\n",
              "      width: 32px;\n",
              "    }\n",
              "\n",
              "    .colab-df-convert:hover {\n",
              "      background-color: #E2EBFA;\n",
              "      box-shadow: 0px 1px 2px rgba(60, 64, 67, 0.3), 0px 1px 3px 1px rgba(60, 64, 67, 0.15);\n",
              "      fill: #174EA6;\n",
              "    }\n",
              "\n",
              "    [theme=dark] .colab-df-convert {\n",
              "      background-color: #3B4455;\n",
              "      fill: #D2E3FC;\n",
              "    }\n",
              "\n",
              "    [theme=dark] .colab-df-convert:hover {\n",
              "      background-color: #434B5C;\n",
              "      box-shadow: 0px 1px 3px 1px rgba(0, 0, 0, 0.15);\n",
              "      filter: drop-shadow(0px 1px 2px rgba(0, 0, 0, 0.3));\n",
              "      fill: #FFFFFF;\n",
              "    }\n",
              "  </style>\n",
              "\n",
              "      <script>\n",
              "        const buttonEl =\n",
              "          document.querySelector('#df-a699aee7-af61-440b-b5d3-6bd19bb04ef0 button.colab-df-convert');\n",
              "        buttonEl.style.display =\n",
              "          google.colab.kernel.accessAllowed ? 'block' : 'none';\n",
              "\n",
              "        async function convertToInteractive(key) {\n",
              "          const element = document.querySelector('#df-a699aee7-af61-440b-b5d3-6bd19bb04ef0');\n",
              "          const dataTable =\n",
              "            await google.colab.kernel.invokeFunction('convertToInteractive',\n",
              "                                                     [key], {});\n",
              "          if (!dataTable) return;\n",
              "\n",
              "          const docLinkHtml = 'Like what you see? Visit the ' +\n",
              "            '<a target=\"_blank\" href=https://colab.research.google.com/notebooks/data_table.ipynb>data table notebook</a>'\n",
              "            + ' to learn more about interactive tables.';\n",
              "          element.innerHTML = '';\n",
              "          dataTable['output_type'] = 'display_data';\n",
              "          await google.colab.output.renderOutput(dataTable, element);\n",
              "          const docLink = document.createElement('div');\n",
              "          docLink.innerHTML = docLinkHtml;\n",
              "          element.appendChild(docLink);\n",
              "        }\n",
              "      </script>\n",
              "    </div>\n",
              "  </div>\n",
              "  "
            ]
          },
          "metadata": {},
          "execution_count": 2
        }
      ]
    },
    {
      "cell_type": "code",
      "source": [
        "waste_1 = data.pop('Timestamp')"
      ],
      "metadata": {
        "id": "VQI6Rj8f_ztO"
      },
      "execution_count": 3,
      "outputs": []
    },
    {
      "cell_type": "code",
      "source": [
        "data.info()"
      ],
      "metadata": {
        "colab": {
          "base_uri": "https://localhost:8080/"
        },
        "id": "0_Fcqa1j_6MA",
        "outputId": "a31e38a0-074d-4834-d727-82d50c1469ad"
      },
      "execution_count": 4,
      "outputs": [
        {
          "output_type": "stream",
          "name": "stdout",
          "text": [
            "<class 'pandas.core.frame.DataFrame'>\n",
            "RangeIndex: 1561 entries, 0 to 1560\n",
            "Data columns (total 7 columns):\n",
            " #   Column             Non-Null Count  Dtype  \n",
            "---  ------             --------------  -----  \n",
            " 0   Air_Temp           1561 non-null   float64\n",
            " 1   Relative_Humidity  1561 non-null   float64\n",
            " 2   Solar_Radiation    1561 non-null   float64\n",
            " 3   RTD                1561 non-null   float64\n",
            " 4   Array_Voltage      1561 non-null   float64\n",
            " 5   Array_Current      1561 non-null   float64\n",
            " 6   Power_Generated    1561 non-null   float64\n",
            "dtypes: float64(7)\n",
            "memory usage: 85.5 KB\n"
          ]
        }
      ]
    },
    {
      "cell_type": "code",
      "source": [
        "min_d = data['Power_Generated'].min()"
      ],
      "metadata": {
        "id": "raKTvgKZ7jiA"
      },
      "execution_count": 5,
      "outputs": []
    },
    {
      "cell_type": "code",
      "source": [
        "max_d=data['Power_Generated'].max()"
      ],
      "metadata": {
        "id": "u11GY3-N7wpr"
      },
      "execution_count": 6,
      "outputs": []
    },
    {
      "cell_type": "code",
      "source": [
        "data[\"Power_Generated\"].describe()"
      ],
      "metadata": {
        "colab": {
          "base_uri": "https://localhost:8080/"
        },
        "id": "-r73bDgGCxoU",
        "outputId": "2c98686d-d62b-4232-d862-b2d4cbd22b19"
      },
      "execution_count": 7,
      "outputs": [
        {
          "output_type": "execute_result",
          "data": {
            "text/plain": [
              "count    1561.000000\n",
              "mean      190.154251\n",
              "std       166.319933\n",
              "min         8.016555\n",
              "25%        11.829454\n",
              "50%       278.411800\n",
              "75%       302.613840\n",
              "max       482.491720\n",
              "Name: Power_Generated, dtype: float64"
            ]
          },
          "metadata": {},
          "execution_count": 7
        }
      ]
    },
    {
      "cell_type": "code",
      "source": [
        "sns.scatterplot(x=\"Solar_Radiation\", y=\"Relative_Humidity\",\n",
        "                 hue=\"Power_Generated\",\n",
        "                 sizes=(3, 15), linewidth=0,\n",
        "                 data=data)"
      ],
      "metadata": {
        "colab": {
          "base_uri": "https://localhost:8080/",
          "height": 298
        },
        "id": "TxjZHMHNACnn",
        "outputId": "abf494b6-a9df-49c2-e166-002e2b9d7a1b"
      },
      "execution_count": 8,
      "outputs": [
        {
          "output_type": "execute_result",
          "data": {
            "text/plain": [
              "<matplotlib.axes._subplots.AxesSubplot at 0x7ff3a613f090>"
            ]
          },
          "metadata": {},
          "execution_count": 8
        },
        {
          "output_type": "display_data",
          "data": {
            "text/plain": [
              "<Figure size 432x288 with 1 Axes>"
            ],
            "image/png": "[encoded data removed]"
          },
          "metadata": {
            "needs_background": "light"
          }
        }
      ]
    },
    {
      "cell_type": "code",
      "source": [
        "sns.jointplot(x='Power_Generated',y='Relative_Humidity',data = data, kind = 'kde' ,color = 'brown')"
      ],
      "metadata": {
        "colab": {
          "base_uri": "https://localhost:8080/",
          "height": 459
        },
        "id": "jnL1lKFHAsku",
        "outputId": "42ed52f7-9630-41fd-d11e-ded7d641ea95"
      },
      "execution_count": 9,
      "outputs": [
        {
          "output_type": "execute_result",
          "data": {
            "text/plain": [
              "<seaborn.axisgrid.JointGrid at 0x7ff38dfb0bd0>"
            ]
          },
          "metadata": {},
          "execution_count": 9
        },
        {
          "output_type": "display_data",
          "data": {
            "text/plain": [
              "<Figure size 432x432 with 3 Axes>"
            ],
            "image/png": "[encoded data removed]"
          },
          "metadata": {
            "needs_background": "light"
          }
        }
      ]
    },
    {
      "cell_type": "code",
      "source": [
        "sns.jointplot(x='Solar_Radiation',y='Relative_Humidity',data = data, kind = 'kde' ,color = 'green')"
      ],
      "metadata": {
        "colab": {
          "base_uri": "https://localhost:8080/",
          "height": 459
        },
        "id": "6yYFjSdbB1gc",
        "outputId": "0510c2a5-494b-4cf7-da7e-ce7da411ed29"
      },
      "execution_count": 10,
      "outputs": [
        {
          "output_type": "execute_result",
          "data": {
            "text/plain": [
              "<seaborn.axisgrid.JointGrid at 0x7ff38d935350>"
            ]
          },
          "metadata": {},
          "execution_count": 10
        },
        {
          "output_type": "display_data",
          "data": {
            "text/plain": [
              "<Figure size 432x432 with 3 Axes>"
            ],
            "image/png": "[encoded data removed]"
          },
          "metadata": {
            "needs_background": "light"
          }
        }
      ]
    },
    {
      "cell_type": "code",
      "source": [
        "data.info()"
      ],
      "metadata": {
        "colab": {
          "base_uri": "https://localhost:8080/"
        },
        "id": "QoOx8grQHR8r",
        "outputId": "838c1589-e1c2-4908-e1e5-d3049abc1285"
      },
      "execution_count": 11,
      "outputs": [
        {
          "output_type": "stream",
          "name": "stdout",
          "text": [
            "<class 'pandas.core.frame.DataFrame'>\n",
            "RangeIndex: 1561 entries, 0 to 1560\n",
            "Data columns (total 7 columns):\n",
            " #   Column             Non-Null Count  Dtype  \n",
            "---  ------             --------------  -----  \n",
            " 0   Air_Temp           1561 non-null   float64\n",
            " 1   Relative_Humidity  1561 non-null   float64\n",
            " 2   Solar_Radiation    1561 non-null   float64\n",
            " 3   RTD                1561 non-null   float64\n",
            " 4   Array_Voltage      1561 non-null   float64\n",
            " 5   Array_Current      1561 non-null   float64\n",
            " 6   Power_Generated    1561 non-null   float64\n",
            "dtypes: float64(7)\n",
            "memory usage: 85.5 KB\n"
          ]
        }
      ]
    },
    {
      "cell_type": "code",
      "source": [
        "from sklearn import preprocessing\n",
        "from sklearn.preprocessing import MinMaxScaler\n",
        "scaler = MinMaxScaler()\n",
        "\n",
        "names = [\"Air_Temp\",\"Relative_Humidity\",\"Solar_Radiation\",\"RTD\",\"Array_Voltage\",\"Array_Current\",\"Power_Generated\"] \n",
        "data[names] = scaler.fit_transform(data[names])"
      ],
      "metadata": {
        "id": "TQUX2tCByz_M"
      },
      "execution_count": 12,
      "outputs": []
    },
    {
      "cell_type": "code",
      "source": [
        "X = data \n",
        "Y = data.pop(\"Power_Generated\")"
      ],
      "metadata": {
        "id": "Ry7j4V0WHlU0"
      },
      "execution_count": 13,
      "outputs": []
    },
    {
      "cell_type": "code",
      "source": [
        "from sklearn.model_selection import train_test_split\n",
        "X_train,X_test,Y_train,Y_test = train_test_split(X,Y,test_size=0.2)"
      ],
      "metadata": {
        "id": "7xbkyN36IEyP"
      },
      "execution_count": 14,
      "outputs": []
    },
    {
      "cell_type": "code",
      "source": [
        "X.head(10)"
      ],
      "metadata": {
        "colab": {
          "base_uri": "https://localhost:8080/",
          "height": 363
        },
        "id": "1ftNIq5FHhcK",
        "outputId": "21b964ff-a09d-4937-eb7f-b735edc4c809"
      },
      "execution_count": 15,
      "outputs": [
        {
          "output_type": "execute_result",
          "data": {
            "text/plain": [
              "   Air_Temp  Relative_Humidity  Solar_Radiation       RTD  Array_Voltage  \\\n",
              "0  0.123692           0.551456         0.000032  0.045133       0.013128   \n",
              "1  0.122157           0.556891         0.000046  0.044163       0.013186   \n",
              "2  0.122026           0.564804         0.000039  0.043868       0.013350   \n",
              "3  0.121895           0.564720         0.000053  0.044695       0.007541   \n",
              "4  0.120667           0.572777         0.000068  0.044356       0.006606   \n",
              "5  0.119219           0.581021         0.000068  0.043072       0.006618   \n",
              "6  0.117025           0.586509         0.000089  0.042675       0.006665   \n",
              "7  0.117025           0.586480         0.000103  0.042546       0.006922   \n",
              "8  0.116148           0.591880         0.000103  0.044017       0.007390   \n",
              "9  0.116541           0.591851         0.000103  0.045287       0.008044   \n",
              "\n",
              "   Array_Current  \n",
              "0       0.842876  \n",
              "1       0.835318  \n",
              "2       0.832780  \n",
              "3       0.840338  \n",
              "4       0.835318  \n",
              "5       0.837772  \n",
              "6       0.832780  \n",
              "7       0.827732  \n",
              "8       0.822712  \n",
              "9       0.827732  "
            ],
            "text/html": [
              "\n",
              "  <div id=\"df-b94f800a-a176-4ef4-b3ae-2c680265abcf\">\n",
              "    <div class=\"colab-df-container\">\n",
              "      <div>\n",
              "<style scoped>\n",
              "    .dataframe tbody tr th:only-of-type {\n",
              "        vertical-align: middle;\n",
              "    }\n",
              "\n",
              "    .dataframe tbody tr th {\n",
              "        vertical-align: top;\n",
              "    }\n",
              "\n",
              "    .dataframe thead th {\n",
              "        text-align: right;\n",
              "    }\n",
              "</style>\n",
              "<table border=\"1\" class=\"dataframe\">\n",
              "  <thead>\n",
              "    <tr style=\"text-align: right;\">\n",
              "      <th></th>\n",
              "      <th>Air_Temp</th>\n",
              "      <th>Relative_Humidity</th>\n",
              "      <th>Solar_Radiation</th>\n",
              "      <th>RTD</th>\n",
              "      <th>Array_Voltage</th>\n",
              "      <th>Array_Current</th>\n",
              "    </tr>\n",
              "  </thead>\n",
              "  <tbody>\n",
              "    <tr>\n",
              "      <th>0</th>\n",
              "      <td>0.123692</td>\n",
              "      <td>0.551456</td>\n",
              "      <td>0.000032</td>\n",
              "      <td>0.045133</td>\n",
              "      <td>0.013128</td>\n",
              "      <td>0.842876</td>\n",
              "    </tr>\n",
              "    <tr>\n",
              "      <th>1</th>\n",
              "      <td>0.122157</td>\n",
              "      <td>0.556891</td>\n",
              "      <td>0.000046</td>\n",
              "      <td>0.044163</td>\n",
              "      <td>0.013186</td>\n",
              "      <td>0.835318</td>\n",
              "    </tr>\n",
              "    <tr>\n",
              "      <th>2</th>\n",
              "      <td>0.122026</td>\n",
              "      <td>0.564804</td>\n",
              "      <td>0.000039</td>\n",
              "      <td>0.043868</td>\n",
              "      <td>0.013350</td>\n",
              "      <td>0.832780</td>\n",
              "    </tr>\n",
              "    <tr>\n",
              "      <th>3</th>\n",
              "      <td>0.121895</td>\n",
              "      <td>0.564720</td>\n",
              "      <td>0.000053</td>\n",
              "      <td>0.044695</td>\n",
              "      <td>0.007541</td>\n",
              "      <td>0.840338</td>\n",
              "    </tr>\n",
              "    <tr>\n",
              "      <th>4</th>\n",
              "      <td>0.120667</td>\n",
              "      <td>0.572777</td>\n",
              "      <td>0.000068</td>\n",
              "      <td>0.044356</td>\n",
              "      <td>0.006606</td>\n",
              "      <td>0.835318</td>\n",
              "    </tr>\n",
              "    <tr>\n",
              "      <th>5</th>\n",
              "      <td>0.119219</td>\n",
              "      <td>0.581021</td>\n",
              "      <td>0.000068</td>\n",
              "      <td>0.043072</td>\n",
              "      <td>0.006618</td>\n",
              "      <td>0.837772</td>\n",
              "    </tr>\n",
              "    <tr>\n",
              "      <th>6</th>\n",
              "      <td>0.117025</td>\n",
              "      <td>0.586509</td>\n",
              "      <td>0.000089</td>\n",
              "      <td>0.042675</td>\n",
              "      <td>0.006665</td>\n",
              "      <td>0.832780</td>\n",
              "    </tr>\n",
              "    <tr>\n",
              "      <th>7</th>\n",
              "      <td>0.117025</td>\n",
              "      <td>0.586480</td>\n",
              "      <td>0.000103</td>\n",
              "      <td>0.042546</td>\n",
              "      <td>0.006922</td>\n",
              "      <td>0.827732</td>\n",
              "    </tr>\n",
              "    <tr>\n",
              "      <th>8</th>\n",
              "      <td>0.116148</td>\n",
              "      <td>0.591880</td>\n",
              "      <td>0.000103</td>\n",
              "      <td>0.044017</td>\n",
              "      <td>0.007390</td>\n",
              "      <td>0.822712</td>\n",
              "    </tr>\n",
              "    <tr>\n",
              "      <th>9</th>\n",
              "      <td>0.116541</td>\n",
              "      <td>0.591851</td>\n",
              "      <td>0.000103</td>\n",
              "      <td>0.045287</td>\n",
              "      <td>0.008044</td>\n",
              "      <td>0.827732</td>\n",
              "    </tr>\n",
              "  </tbody>\n",
              "</table>\n",
              "</div>\n",
              "      <button class=\"colab-df-convert\" onclick=\"convertToInteractive('df-b94f800a-a176-4ef4-b3ae-2c680265abcf')\"\n",
              "              title=\"Convert this dataframe to an interactive table.\"\n",
              "              style=\"display:none;\">\n",
              "        \n",
              "  <svg xmlns=\"http://www.w3.org/2000/svg\" height=\"24px\"viewBox=\"0 0 24 24\"\n",
              "       width=\"24px\">\n",
              "    <path d=\"M0 0h24v24H0V0z\" fill=\"none\"/>\n",
              "    <path d=\"M18.56 5.44l.94 2.06.94-2.06 2.06-.94-2.06-.94-.94-2.06-.94 2.06-2.06.94zm-11 1L8.5 8.5l.94-2.06 2.06-.94-2.06-.94L8.5 2.5l-.94 2.06-2.06.94zm10 10l.94 2.06.94-2.06 2.06-.94-2.06-.94-.94-2.06-.94 2.06-2.06.94z\"/><path d=\"M17.41 7.96l-1.37-1.37c-.4-.4-.92-.59-1.43-.59-.52 0-1.04.2-1.43.59L10.3 9.45l-7.72 7.72c-.78.78-.78 2.05 0 2.83L4 21.41c.39.39.9.59 1.41.59.51 0 1.02-.2 1.41-.59l7.78-7.78 2.81-2.81c.8-.78.8-2.07 0-2.86zM5.41 20L4 18.59l7.72-7.72 1.47 1.35L5.41 20z\"/>\n",
              "  </svg>\n",
              "      </button>\n",
              "      \n",
              "  <style>\n",
              "    .colab-df-container {\n",
              "      display:flex;\n",
              "      flex-wrap:wrap;\n",
              "      gap: 12px;\n",
              "    }\n",
              "\n",
              "    .colab-df-convert {\n",
              "      background-color: #E8F0FE;\n",
              "      border: none;\n",
              "      border-radius: 50%;\n",
              "      cursor: pointer;\n",
              "      display: none;\n",
              "      fill: #1967D2;\n",
              "      height: 32px;\n",
              "      padding: 0 0 0 0;\n",
              "      width: 32px;\n",
              "    }\n",
              "\n",
              "    .colab-df-convert:hover {\n",
              "      background-color: #E2EBFA;\n",
              "      box-shadow: 0px 1px 2px rgba(60, 64, 67, 0.3), 0px 1px 3px 1px rgba(60, 64, 67, 0.15);\n",
              "      fill: #174EA6;\n",
              "    }\n",
              "\n",
              "    [theme=dark] .colab-df-convert {\n",
              "      background-color: #3B4455;\n",
              "      fill: #D2E3FC;\n",
              "    }\n",
              "\n",
              "    [theme=dark] .colab-df-convert:hover {\n",
              "      background-color: #434B5C;\n",
              "      box-shadow: 0px 1px 3px 1px rgba(0, 0, 0, 0.15);\n",
              "      filter: drop-shadow(0px 1px 2px rgba(0, 0, 0, 0.3));\n",
              "      fill: #FFFFFF;\n",
              "    }\n",
              "  </style>\n",
              "\n",
              "      <script>\n",
              "        const buttonEl =\n",
              "          document.querySelector('#df-b94f800a-a176-4ef4-b3ae-2c680265abcf button.colab-df-convert');\n",
              "        buttonEl.style.display =\n",
              "          google.colab.kernel.accessAllowed ? 'block' : 'none';\n",
              "\n",
              "        async function convertToInteractive(key) {\n",
              "          const element = document.querySelector('#df-b94f800a-a176-4ef4-b3ae-2c680265abcf');\n",
              "          const dataTable =\n",
              "            await google.colab.kernel.invokeFunction('convertToInteractive',\n",
              "                                                     [key], {});\n",
              "          if (!dataTable) return;\n",
              "\n",
              "          const docLinkHtml = 'Like what you see? Visit the ' +\n",
              "            '<a target=\"_blank\" href=https://colab.research.google.com/notebooks/data_table.ipynb>data table notebook</a>'\n",
              "            + ' to learn more about interactive tables.';\n",
              "          element.innerHTML = '';\n",
              "          dataTable['output_type'] = 'display_data';\n",
              "          await google.colab.output.renderOutput(dataTable, element);\n",
              "          const docLink = document.createElement('div');\n",
              "          docLink.innerHTML = docLinkHtml;\n",
              "          element.appendChild(docLink);\n",
              "        }\n",
              "      </script>\n",
              "    </div>\n",
              "  </div>\n",
              "  "
            ]
          },
          "metadata": {},
          "execution_count": 15
        }
      ]
    },
    {
      "cell_type": "code",
      "source": [
        "Y.head()"
      ],
      "metadata": {
        "colab": {
          "base_uri": "https://localhost:8080/"
        },
        "id": "CaMd0_asz04i",
        "outputId": "f285592d-9d16-4b49-bfa0-cd28f30126fd"
      },
      "execution_count": 16,
      "outputs": [
        {
          "output_type": "execute_result",
          "data": {
            "text/plain": [
              "0    0.013155\n",
              "1    0.013212\n",
              "2    0.013376\n",
              "3    0.007553\n",
              "4    0.006615\n",
              "Name: Power_Generated, dtype: float64"
            ]
          },
          "metadata": {},
          "execution_count": 16
        }
      ]
    },
    {
      "cell_type": "code",
      "source": [
        "X.shape"
      ],
      "metadata": {
        "colab": {
          "base_uri": "https://localhost:8080/"
        },
        "id": "YFRbyoyMH_99",
        "outputId": "0fb87770-2c0b-4525-d9b5-181a741c460e"
      },
      "execution_count": 17,
      "outputs": [
        {
          "output_type": "execute_result",
          "data": {
            "text/plain": [
              "(1561, 6)"
            ]
          },
          "metadata": {},
          "execution_count": 17
        }
      ]
    },
    {
      "cell_type": "code",
      "source": [
        "%%time\n",
        "import tensorflow as tf\n",
        "import random\n",
        "\n",
        "tf.random.set_seed(42)\n",
        "\n",
        "model_2 = tf.keras.Sequential([tf.keras.layers.LSTM(300,activation='relu',return_sequences=True,input_shape=(6,1)),\n",
        "                               tf.keras.layers.Dropout(0.2,seed=42),\n",
        "                               tf.keras.layers.LSTM(200,activation='relu'),\n",
        "                               tf.keras.layers.Dropout(0.2,seed=42),\n",
        "                               tf.keras.layers.Dense(1)])\n",
        "\n",
        "model_2.compile(loss='mae',\n",
        "                optimizer= tf.keras.optimizers.Adam(learning_rate=0.005),\n",
        "                metrics = ['mae'])\n",
        "\n",
        "history_2 = model_2.fit(tf.expand_dims(X_train,axis=-1),Y_train,epochs=15)"
      ],
      "metadata": {
        "colab": {
          "base_uri": "https://localhost:8080/"
        },
        "id": "2YSHm-EGMiG_",
        "outputId": "98ceabb3-dbaf-43a4-c941-e07485388db3"
      },
      "execution_count": 18,
      "outputs": [
        {
          "output_type": "stream",
          "name": "stdout",
          "text": [
            "Epoch 1/15\n",
            "39/39 [==============================] - 7s 81ms/step - loss: 0.2241 - mae: 0.2241\n",
            "Epoch 2/15\n",
            "39/39 [==============================] - 3s 80ms/step - loss: 0.1017 - mae: 0.1017\n",
            "Epoch 3/15\n",
            "39/39 [==============================] - 3s 79ms/step - loss: 0.0698 - mae: 0.0698\n",
            "Epoch 4/15\n",
            "39/39 [==============================] - 3s 73ms/step - loss: 0.0577 - mae: 0.0577\n",
            "Epoch 5/15\n",
            "39/39 [==============================] - 3s 72ms/step - loss: 0.0449 - mae: 0.0449\n",
            "Epoch 6/15\n",
            "39/39 [==============================] - 3s 84ms/step - loss: 0.0372 - mae: 0.0372\n",
            "Epoch 7/15\n",
            "39/39 [==============================] - 3s 72ms/step - loss: 0.0345 - mae: 0.0345\n",
            "Epoch 8/15\n",
            "39/39 [==============================] - 2s 45ms/step - loss: 0.0366 - mae: 0.0366\n",
            "Epoch 9/15\n",
            "39/39 [==============================] - 2s 44ms/step - loss: 0.0357 - mae: 0.0357\n",
            "Epoch 10/15\n",
            "39/39 [==============================] - 2s 45ms/step - loss: 0.0346 - mae: 0.0346\n",
            "Epoch 11/15\n",
            "39/39 [==============================] - 2s 45ms/step - loss: 0.0356 - mae: 0.0356\n",
            "Epoch 12/15\n",
            "39/39 [==============================] - 2s 45ms/step - loss: 0.0342 - mae: 0.0342\n",
            "Epoch 13/15\n",
            "39/39 [==============================] - 2s 44ms/step - loss: 0.0333 - mae: 0.0333\n",
            "Epoch 14/15\n",
            "39/39 [==============================] - 2s 44ms/step - loss: 0.0329 - mae: 0.0329\n",
            "Epoch 15/15\n",
            "39/39 [==============================] - 2s 44ms/step - loss: 0.0321 - mae: 0.0321\n",
            "CPU times: user 49 s, sys: 2.81 s, total: 51.8 s\n",
            "Wall time: 44.5 s\n"
          ]
        }
      ]
    },
    {
      "cell_type": "code",
      "source": [
        "model_2.evaluate(X_test,Y_test)"
      ],
      "metadata": {
        "colab": {
          "base_uri": "https://localhost:8080/"
        },
        "id": "SXDiueS0NPJp",
        "outputId": "9b234e74-7985-4561-e0fa-ccca7980660f"
      },
      "execution_count": 19,
      "outputs": [
        {
          "output_type": "stream",
          "name": "stdout",
          "text": [
            "10/10 [==============================] - 1s 16ms/step - loss: 0.0226 - mae: 0.0226\n"
          ]
        },
        {
          "output_type": "execute_result",
          "data": {
            "text/plain": [
              "[0.02255423367023468, 0.02255423367023468]"
            ]
          },
          "metadata": {},
          "execution_count": 19
        }
      ]
    },
    {
      "cell_type": "code",
      "source": [
        "pd.DataFrame(history_2.history).plot()\n",
        "plt.title(\"Error\")\n",
        "plt.xlabel(\"Epochs\")\n",
        "plt.ylabel(\"Mean Absoulte Error\")"
      ],
      "metadata": {
        "colab": {
          "base_uri": "https://localhost:8080/",
          "height": 313
        },
        "id": "b7-O2lwlNtcZ",
        "outputId": "4ca0e5bf-60bd-438d-ba57-258e9e206b90"
      },
      "execution_count": 20,
      "outputs": [
        {
          "output_type": "execute_result",
          "data": {
            "text/plain": [
              "Text(0, 0.5, 'Mean Absoulte Error')"
            ]
          },
          "metadata": {},
          "execution_count": 20
        },
        {
          "output_type": "display_data",
          "data": {
            "text/plain": [
              "<Figure size 432x288 with 1 Axes>"
            ],
            "image/png": "[encoded data removed]"
          },
          "metadata": {
            "needs_background": "light"
          }
        }
      ]
    },
    {
      "cell_type": "code",
      "source": [
        "pred_2 = model_2.predict(Y_test)"
      ],
      "metadata": {
        "colab": {
          "base_uri": "https://localhost:8080/"
        },
        "id": "LPsI2TlkAAV6",
        "outputId": "3fb60ec6-ef0b-4926-ce99-ee478bce6bdf"
      },
      "execution_count": 21,
      "outputs": [
        {
          "output_type": "stream",
          "name": "stderr",
          "text": [
            "WARNING:tensorflow:Model was constructed with shape (None, 6, 1) for input KerasTensor(type_spec=TensorSpec(shape=(None, 6, 1), dtype=tf.float32, name='lstm_input'), name='lstm_input', description=\"created by layer 'lstm_input'\"), but it was called on an input with incompatible shape (None, 1, 1).\n"
          ]
        }
      ]
    },
    {
      "cell_type": "code",
      "source": [
        "pred_2.shape"
      ],
      "metadata": {
        "colab": {
          "base_uri": "https://localhost:8080/"
        },
        "id": "EjLaG0HG_EPh",
        "outputId": "56e08d5b-b6b8-4a01-f7ac-f7609f9398af"
      },
      "execution_count": 22,
      "outputs": [
        {
          "output_type": "execute_result",
          "data": {
            "text/plain": [
              "(313, 1)"
            ]
          },
          "metadata": {},
          "execution_count": 22
        }
      ]
    },
    {
      "cell_type": "code",
      "source": [
        "pred_2"
      ],
      "metadata": {
        "id": "6h0AhX2HADnx",
        "outputId": "bd5d2563-d174-4fa7-ab14-a13d770fe390",
        "colab": {
          "base_uri": "https://localhost:8080/"
        }
      },
      "execution_count": 23,
      "outputs": [
        {
          "output_type": "execute_result",
          "data": {
            "text/plain": [
              "array([[0.12001296],\n",
              "       [0.14859198],\n",
              "       [0.00774656],\n",
              "       [0.11703289],\n",
              "       [0.00968774],\n",
              "       [0.02653501],\n",
              "       [0.0078247 ],\n",
              "       [0.21872751],\n",
              "       [0.11670761],\n",
              "       [0.20309111],\n",
              "       [0.00778265],\n",
              "       [0.00784765],\n",
              "       [0.11946099],\n",
              "       [0.18536733],\n",
              "       [0.11090162],\n",
              "       [0.20784698],\n",
              "       [0.11975782],\n",
              "       [0.11676727],\n",
              "       [0.00802229],\n",
              "       [0.00778253],\n",
              "       [0.20512569],\n",
              "       [0.06519293],\n",
              "       [0.00774241],\n",
              "       [0.17979479],\n",
              "       [0.21396188],\n",
              "       [0.00768407],\n",
              "       [0.1933854 ],\n",
              "       [0.00809522],\n",
              "       [0.00769882],\n",
              "       [0.19489133],\n",
              "       [0.11551969],\n",
              "       [0.12299155],\n",
              "       [0.0076891 ],\n",
              "       [0.19635153],\n",
              "       [0.00775256],\n",
              "       [0.00780411],\n",
              "       [0.00765694],\n",
              "       [0.21997787],\n",
              "       [0.12276525],\n",
              "       [0.11733498],\n",
              "       [0.10552524],\n",
              "       [0.11390997],\n",
              "       [0.2002267 ],\n",
              "       [0.00766725],\n",
              "       [0.21385682],\n",
              "       [0.13419804],\n",
              "       [0.10876917],\n",
              "       [0.00782154],\n",
              "       [0.00781198],\n",
              "       [0.20224573],\n",
              "       [0.12173043],\n",
              "       [0.1961551 ],\n",
              "       [0.11973809],\n",
              "       [0.00779195],\n",
              "       [0.00821177],\n",
              "       [0.20961846],\n",
              "       [0.00781949],\n",
              "       [0.00791283],\n",
              "       [0.11169104],\n",
              "       [0.13626786],\n",
              "       [0.20828585],\n",
              "       [0.00799342],\n",
              "       [0.18168549],\n",
              "       [0.129904  ],\n",
              "       [0.03821115],\n",
              "       [0.00766291],\n",
              "       [0.00770043],\n",
              "       [0.17543556],\n",
              "       [0.11759016],\n",
              "       [0.10546137],\n",
              "       [0.21751039],\n",
              "       [0.13451676],\n",
              "       [0.11476812],\n",
              "       [0.00810138],\n",
              "       [0.11244614],\n",
              "       [0.00774456],\n",
              "       [0.00791772],\n",
              "       [0.14172857],\n",
              "       [0.12002578],\n",
              "       [0.11776661],\n",
              "       [0.20667675],\n",
              "       [0.21544914],\n",
              "       [0.00779496],\n",
              "       [0.10933195],\n",
              "       [0.20328403],\n",
              "       [0.10943392],\n",
              "       [0.00797581],\n",
              "       [0.19636513],\n",
              "       [0.00799636],\n",
              "       [0.00772341],\n",
              "       [0.00770129],\n",
              "       [0.14531176],\n",
              "       [0.11449579],\n",
              "       [0.20080416],\n",
              "       [0.12557909],\n",
              "       [0.00790172],\n",
              "       [0.11517633],\n",
              "       [0.00772955],\n",
              "       [0.13546437],\n",
              "       [0.11903219],\n",
              "       [0.11067419],\n",
              "       [0.22207846],\n",
              "       [0.15053059],\n",
              "       [0.11442259],\n",
              "       [0.11476456],\n",
              "       [0.00821028],\n",
              "       [0.00780493],\n",
              "       [0.00826164],\n",
              "       [0.1251696 ],\n",
              "       [0.19328068],\n",
              "       [0.12625119],\n",
              "       [0.01008376],\n",
              "       [0.00769569],\n",
              "       [0.11595048],\n",
              "       [0.11065766],\n",
              "       [0.00774316],\n",
              "       [0.19411705],\n",
              "       [0.00800351],\n",
              "       [0.06228531],\n",
              "       [0.11957558],\n",
              "       [0.18370347],\n",
              "       [0.00804523],\n",
              "       [0.12218241],\n",
              "       [0.00777481],\n",
              "       [0.21117198],\n",
              "       [0.01523096],\n",
              "       [0.00778373],\n",
              "       [0.1077724 ],\n",
              "       [0.1079489 ],\n",
              "       [0.11222614],\n",
              "       [0.00818248],\n",
              "       [0.14822969],\n",
              "       [0.12235518],\n",
              "       [0.11004955],\n",
              "       [0.15840064],\n",
              "       [0.18286659],\n",
              "       [0.00814284],\n",
              "       [0.00803187],\n",
              "       [0.11060505],\n",
              "       [0.00804589],\n",
              "       [0.11452466],\n",
              "       [0.17828907],\n",
              "       [0.15356426],\n",
              "       [0.20306058],\n",
              "       [0.11573146],\n",
              "       [0.11607108],\n",
              "       [0.14753677],\n",
              "       [0.00774077],\n",
              "       [0.11736724],\n",
              "       [0.00796004],\n",
              "       [0.12745228],\n",
              "       [0.12244362],\n",
              "       [0.00776372],\n",
              "       [0.1508487 ],\n",
              "       [0.00786718],\n",
              "       [0.00820987],\n",
              "       [0.00777808],\n",
              "       [0.19009267],\n",
              "       [0.00773208],\n",
              "       [0.00781868],\n",
              "       [0.11872929],\n",
              "       [0.0077261 ],\n",
              "       [0.20087107],\n",
              "       [0.00778496],\n",
              "       [0.11298139],\n",
              "       [0.00769611],\n",
              "       [0.2001547 ],\n",
              "       [0.13394855],\n",
              "       [0.10955568],\n",
              "       [0.11055669],\n",
              "       [0.00776507],\n",
              "       [0.00768317],\n",
              "       [0.00769521],\n",
              "       [0.11653979],\n",
              "       [0.00798192],\n",
              "       [0.11424023],\n",
              "       [0.11201902],\n",
              "       [0.14459592],\n",
              "       [0.11660029],\n",
              "       [0.22151287],\n",
              "       [0.21598122],\n",
              "       [0.0080392 ],\n",
              "       [0.00778732],\n",
              "       [0.07940614],\n",
              "       [0.00800692],\n",
              "       [0.11096357],\n",
              "       [0.01218097],\n",
              "       [0.00778538],\n",
              "       [0.00776916],\n",
              "       [0.21948655],\n",
              "       [0.00794783],\n",
              "       [0.11719208],\n",
              "       [0.00795398],\n",
              "       [0.11551073],\n",
              "       [0.0078322 ],\n",
              "       [0.00778007],\n",
              "       [0.11126358],\n",
              "       [0.00774657],\n",
              "       [0.11190057],\n",
              "       [0.0077181 ],\n",
              "       [0.00790572],\n",
              "       [0.00771746],\n",
              "       [0.00779328],\n",
              "       [0.11642042],\n",
              "       [0.19336739],\n",
              "       [0.00795135],\n",
              "       [0.18808603],\n",
              "       [0.20841123],\n",
              "       [0.00822919],\n",
              "       [0.13344143],\n",
              "       [0.00799955],\n",
              "       [0.00775294],\n",
              "       [0.00782885],\n",
              "       [0.00782462],\n",
              "       [0.1123102 ],\n",
              "       [0.00802395],\n",
              "       [0.10635243],\n",
              "       [0.00769284],\n",
              "       [0.22427197],\n",
              "       [0.00765148],\n",
              "       [0.21206483],\n",
              "       [0.18999149],\n",
              "       [0.11037096],\n",
              "       [0.20895498],\n",
              "       [0.00782344],\n",
              "       [0.00781661],\n",
              "       [0.201847  ],\n",
              "       [0.21298942],\n",
              "       [0.1524418 ],\n",
              "       [0.10868034],\n",
              "       [0.00777469],\n",
              "       [0.11023786],\n",
              "       [0.11897545],\n",
              "       [0.00800908],\n",
              "       [0.11472793],\n",
              "       [0.11578296],\n",
              "       [0.10988058],\n",
              "       [0.11920512],\n",
              "       [0.00774977],\n",
              "       [0.14744844],\n",
              "       [0.00777802],\n",
              "       [0.21103385],\n",
              "       [0.21371645],\n",
              "       [0.00782448],\n",
              "       [0.00793805],\n",
              "       [0.21221347],\n",
              "       [0.01077242],\n",
              "       [0.11877832],\n",
              "       [0.00780291],\n",
              "       [0.12176132],\n",
              "       [0.00774256],\n",
              "       [0.00765224],\n",
              "       [0.03160358],\n",
              "       [0.11660473],\n",
              "       [0.15299593],\n",
              "       [0.19120406],\n",
              "       [0.1393374 ],\n",
              "       [0.00780416],\n",
              "       [0.00775976],\n",
              "       [0.10768254],\n",
              "       [0.00774281],\n",
              "       [0.1214569 ],\n",
              "       [0.00763738],\n",
              "       [0.20159914],\n",
              "       [0.00786046],\n",
              "       [0.00783892],\n",
              "       [0.00775568],\n",
              "       [0.10898896],\n",
              "       [0.11705864],\n",
              "       [0.11620207],\n",
              "       [0.20916736],\n",
              "       [0.21327792],\n",
              "       [0.00769206],\n",
              "       [0.11731456],\n",
              "       [0.10943781],\n",
              "       [0.00799119],\n",
              "       [0.11666176],\n",
              "       [0.00798108],\n",
              "       [0.00764831],\n",
              "       [0.0077987 ],\n",
              "       [0.00800312],\n",
              "       [0.1099401 ],\n",
              "       [0.00801951],\n",
              "       [0.00776931],\n",
              "       [0.11608811],\n",
              "       [0.00772421],\n",
              "       [0.00801834],\n",
              "       [0.0078567 ],\n",
              "       [0.00796618],\n",
              "       [0.1127764 ],\n",
              "       [0.20384048],\n",
              "       [0.19374764],\n",
              "       [0.00832677],\n",
              "       [0.11266793],\n",
              "       [0.11735018],\n",
              "       [0.00798637],\n",
              "       [0.12867667],\n",
              "       [0.1744277 ],\n",
              "       [0.00782143],\n",
              "       [0.11446394],\n",
              "       [0.11599603],\n",
              "       [0.2179477 ],\n",
              "       [0.00787045],\n",
              "       [0.00773487],\n",
              "       [0.00791095],\n",
              "       [0.00787132],\n",
              "       [0.14391153],\n",
              "       [0.00769484],\n",
              "       [0.12473521],\n",
              "       [0.00779152],\n",
              "       [0.20170347],\n",
              "       [0.11153852],\n",
              "       [0.11650587]], dtype=float32)"
            ]
          },
          "metadata": {},
          "execution_count": 23
        }
      ]
    },
    {
      "cell_type": "code",
      "source": [
        "#normalized_d = pred_2\n",
        "#final = normalized_d * (max_d - min_d) + min_d\n",
        "#final"
      ],
      "metadata": {
        "id": "girugC4R6eqa"
      },
      "execution_count": 24,
      "outputs": []
    },
    {
      "cell_type": "code",
      "source": [
        "final_power = pred_2 * (max_d - min_d)+ min_d\n",
        "final_power"
      ],
      "metadata": {
        "colab": {
          "base_uri": "https://localhost:8080/"
        },
        "id": "VNyWtDmY_IrI",
        "outputId": "26a60a86-1ea0-4f3a-89dd-520900aa4a60"
      },
      "execution_count": 25,
      "outputs": [
        {
          "output_type": "execute_result",
          "data": {
            "text/plain": [
              "array([[ 64.959724 ],\n",
              "       [ 78.51976  ],\n",
              "       [ 11.692104 ],\n",
              "       [ 63.545757 ],\n",
              "       [ 12.613146 ],\n",
              "       [ 20.606758 ],\n",
              "       [ 11.729179 ],\n",
              "       [111.797325 ],\n",
              "       [ 63.39142  ],\n",
              "       [104.37824  ],\n",
              "       [ 11.7092285],\n",
              "       [ 11.740071 ],\n",
              "       [ 64.69782  ],\n",
              "       [ 95.96875  ],\n",
              "       [ 60.63662  ],\n",
              "       [106.63479  ],\n",
              "       [ 64.83866  ],\n",
              "       [ 63.419727 ],\n",
              "       [ 11.822931 ],\n",
              "       [ 11.709172 ],\n",
              "       [105.3436   ],\n",
              "       [ 38.948982 ],\n",
              "       [ 11.690138 ],\n",
              "       [ 93.324715 ],\n",
              "       [109.536156 ],\n",
              "       [ 11.662455 ],\n",
              "       [ 99.773125 ],\n",
              "       [ 11.857533 ],\n",
              "       [ 11.669453 ],\n",
              "       [100.487656 ],\n",
              "       [ 62.827778 ],\n",
              "       [ 66.372986 ],\n",
              "       [ 11.664843 ],\n",
              "       [101.18048  ],\n",
              "       [ 11.694953 ],\n",
              "       [ 11.719409 ],\n",
              "       [ 11.64958  ],\n",
              "       [112.390594 ],\n",
              "       [ 66.26562  ],\n",
              "       [ 63.689087 ],\n",
              "       [ 58.08566  ],\n",
              "       [ 62.06401  ],\n",
              "       [103.01915  ],\n",
              "       [ 11.654475 ],\n",
              "       [109.486305 ],\n",
              "       [ 71.69019  ],\n",
              "       [ 59.624825 ],\n",
              "       [ 11.727682 ],\n",
              "       [ 11.723147 ],\n",
              "       [103.97713  ],\n",
              "       [ 65.77462  ],\n",
              "       [101.08728  ],\n",
              "       [ 64.82931  ],\n",
              "       [ 11.713641 ],\n",
              "       [ 11.912837 ],\n",
              "       [107.47531  ],\n",
              "       [ 11.726708 ],\n",
              "       [ 11.770998 ],\n",
              "       [ 61.01118  ],\n",
              "       [ 72.67227  ],\n",
              "       [106.84302  ],\n",
              "       [ 11.809234 ],\n",
              "       [ 94.22181  ],\n",
              "       [ 69.65278  ],\n",
              "       [ 26.146797 ],\n",
              "       [ 11.652415 ],\n",
              "       [ 11.670219 ],\n",
              "       [ 91.25637  ],\n",
              "       [ 63.810165 ],\n",
              "       [ 58.05536  ],\n",
              "       [111.21983  ],\n",
              "       [ 71.841415 ],\n",
              "       [ 62.471176 ],\n",
              "       [ 11.860459 ],\n",
              "       [ 61.369453 ],\n",
              "       [ 11.691155 ],\n",
              "       [ 11.773317 ],\n",
              "       [ 75.26324  ],\n",
              "       [ 64.965805 ],\n",
              "       [ 63.893887 ],\n",
              "       [106.07954  ],\n",
              "       [110.24182  ],\n",
              "       [ 11.715068 ],\n",
              "       [ 59.89185  ],\n",
              "       [104.46977  ],\n",
              "       [ 59.94023  ],\n",
              "       [ 11.800878 ],\n",
              "       [101.186935 ],\n",
              "       [ 11.81063  ],\n",
              "       [ 11.68112  ],\n",
              "       [ 11.670627 ],\n",
              "       [ 76.96338  ],\n",
              "       [ 62.341965 ],\n",
              "       [103.293144 ],\n",
              "       [ 67.600716 ],\n",
              "       [ 11.765724 ],\n",
              "       [ 62.664867 ],\n",
              "       [ 11.684034 ],\n",
              "       [ 72.29103  ],\n",
              "       [ 64.49437  ],\n",
              "       [ 60.52871  ],\n",
              "       [113.38727  ],\n",
              "       [ 79.43958  ],\n",
              "       [ 62.30723  ],\n",
              "       [ 62.469486 ],\n",
              "       [ 11.912128 ],\n",
              "       [ 11.719801 ],\n",
              "       [ 11.936499 ],\n",
              "       [ 67.406425 ],\n",
              "       [ 99.723434 ],\n",
              "       [ 67.91961  ],\n",
              "       [ 12.801047 ],\n",
              "       [ 11.667971 ],\n",
              "       [ 63.032177 ],\n",
              "       [ 60.520866 ],\n",
              "       [ 11.690493 ],\n",
              "       [100.12028  ],\n",
              "       [ 11.814021 ],\n",
              "       [ 37.56939  ],\n",
              "       [ 64.7522   ],\n",
              "       [ 95.17929  ],\n",
              "       [ 11.8338175],\n",
              "       [ 65.989075 ],\n",
              "       [ 11.705511 ],\n",
              "       [108.21242  ],\n",
              "       [ 15.243269 ],\n",
              "       [ 11.709741 ],\n",
              "       [ 59.15188  ],\n",
              "       [ 59.235626 ],\n",
              "       [ 61.26507  ],\n",
              "       [ 11.89894  ],\n",
              "       [ 78.34786  ],\n",
              "       [ 66.071045 ],\n",
              "       [ 60.23233  ],\n",
              "       [ 83.17372  ],\n",
              "       [ 94.78221  ],\n",
              "       [ 11.880129 ],\n",
              "       [ 11.827478 ],\n",
              "       [ 60.495907 ],\n",
              "       [ 11.834128 ],\n",
              "       [ 62.355663 ],\n",
              "       [ 92.61029  ],\n",
              "       [ 80.87898  ],\n",
              "       [104.363754 ],\n",
              "       [ 62.92826  ],\n",
              "       [ 63.089397 ],\n",
              "       [ 78.01909  ],\n",
              "       [ 11.689357 ],\n",
              "       [ 63.704395 ],\n",
              "       [ 11.793395 ],\n",
              "       [ 68.489494 ],\n",
              "       [ 66.11301  ],\n",
              "       [ 11.700249 ],\n",
              "       [ 79.590515 ],\n",
              "       [ 11.749337 ],\n",
              "       [ 11.911932 ],\n",
              "       [ 11.707063 ],\n",
              "       [ 98.21081  ],\n",
              "       [ 11.685232 ],\n",
              "       [ 11.726322 ],\n",
              "       [ 64.350655 ],\n",
              "       [ 11.682398 ],\n",
              "       [103.32489  ],\n",
              "       [ 11.710325 ],\n",
              "       [ 61.62342  ],\n",
              "       [ 11.668167 ],\n",
              "       [102.98499  ],\n",
              "       [ 71.571815 ],\n",
              "       [ 59.998    ],\n",
              "       [ 60.47296  ],\n",
              "       [ 11.70089  ],\n",
              "       [ 11.662026 ],\n",
              "       [ 11.667742 ],\n",
              "       [ 63.31179  ],\n",
              "       [ 11.803776 ],\n",
              "       [ 62.220707 ],\n",
              "       [ 61.166798 ],\n",
              "       [ 76.623726 ],\n",
              "       [ 63.340496 ],\n",
              "       [113.11891  ],\n",
              "       [110.49428  ],\n",
              "       [ 11.830955 ],\n",
              "       [ 11.711444 ],\n",
              "       [ 45.6928   ],\n",
              "       [ 11.8156395],\n",
              "       [ 60.66601  ],\n",
              "       [ 13.796124 ],\n",
              "       [ 11.710522 ],\n",
              "       [ 11.70283  ],\n",
              "       [112.15747  ],\n",
              "       [ 11.7876005],\n",
              "       [ 63.62129  ],\n",
              "       [ 11.790522 ],\n",
              "       [ 62.82353  ],\n",
              "       [ 11.732739 ],\n",
              "       [ 11.708004 ],\n",
              "       [ 60.80836  ],\n",
              "       [ 11.692112 ],\n",
              "       [ 61.110596 ],\n",
              "       [ 11.678603 ],\n",
              "       [ 11.767622 ],\n",
              "       [ 11.678297 ],\n",
              "       [ 11.714272 ],\n",
              "       [ 63.255154 ],\n",
              "       [ 99.76458  ],\n",
              "       [ 11.789271 ],\n",
              "       [ 97.258705 ],\n",
              "       [106.90251  ],\n",
              "       [ 11.921102 ],\n",
              "       [ 71.3312   ],\n",
              "       [ 11.812141 ],\n",
              "       [ 11.695131 ],\n",
              "       [ 11.73115  ],\n",
              "       [ 11.729145 ],\n",
              "       [ 61.304955 ],\n",
              "       [ 11.823722 ],\n",
              "       [ 58.47814  ],\n",
              "       [ 11.666617 ],\n",
              "       [114.42803  ],\n",
              "       [ 11.646993 ],\n",
              "       [108.63605  ],\n",
              "       [ 98.162796 ],\n",
              "       [ 60.38484  ],\n",
              "       [107.1605   ],\n",
              "       [ 11.728584 ],\n",
              "       [ 11.725342 ],\n",
              "       [103.78794  ],\n",
              "       [109.074745 ],\n",
              "       [ 80.346405 ],\n",
              "       [ 59.582676 ],\n",
              "       [ 11.705452 ],\n",
              "       [ 60.321682 ],\n",
              "       [ 64.46745  ],\n",
              "       [ 11.816663 ],\n",
              "       [ 62.452106 ],\n",
              "       [ 62.952694 ],\n",
              "       [ 60.15216  ],\n",
              "       [ 64.57642  ],\n",
              "       [ 11.693627 ],\n",
              "       [ 77.97717  ],\n",
              "       [ 11.707032 ],\n",
              "       [108.14687  ],\n",
              "       [109.4197   ],\n",
              "       [ 11.7290745],\n",
              "       [ 11.782961 ],\n",
              "       [108.70657  ],\n",
              "       [ 13.127802 ],\n",
              "       [ 64.37392  ],\n",
              "       [ 11.718842 ],\n",
              "       [ 65.789276 ],\n",
              "       [ 11.690208 ],\n",
              "       [ 11.647352 ],\n",
              "       [ 23.01167  ],\n",
              "       [ 63.342606 ],\n",
              "       [ 80.60932  ],\n",
              "       [ 98.73813  ],\n",
              "       [ 74.12869  ],\n",
              "       [ 11.719436 ],\n",
              "       [ 11.698366 ],\n",
              "       [ 59.109245 ],\n",
              "       [ 11.690325 ],\n",
              "       [ 65.64484  ],\n",
              "       [ 11.640301 ],\n",
              "       [103.67034  ],\n",
              "       [ 11.74615  ],\n",
              "       [ 11.735928 ],\n",
              "       [ 11.696433 ],\n",
              "       [ 59.729107 ],\n",
              "       [ 63.557972 ],\n",
              "       [ 63.15155  ],\n",
              "       [107.26128  ],\n",
              "       [109.21163  ],\n",
              "       [ 11.6662445],\n",
              "       [ 63.6794   ],\n",
              "       [ 59.942078 ],\n",
              "       [ 11.808177 ],\n",
              "       [ 63.369663 ],\n",
              "       [ 11.803381 ],\n",
              "       [ 11.645487 ],\n",
              "       [ 11.7168455],\n",
              "       [ 11.813836 ],\n",
              "       [ 60.1804   ],\n",
              "       [ 11.821613 ],\n",
              "       [ 11.702899 ],\n",
              "       [ 63.09748  ],\n",
              "       [ 11.681499 ],\n",
              "       [ 11.821059 ],\n",
              "       [ 11.744362 ],\n",
              "       [ 11.79631  ],\n",
              "       [ 61.526154 ],\n",
              "       [104.7338   ],\n",
              "       [ 99.945    ],\n",
              "       [ 11.967399 ],\n",
              "       [ 61.47469  ],\n",
              "       [ 63.696304 ],\n",
              "       [ 11.805889 ],\n",
              "       [ 69.070435 ],\n",
              "       [ 90.77817  ],\n",
              "       [ 11.72763  ],\n",
              "       [ 62.32685  ],\n",
              "       [ 63.05379  ],\n",
              "       [111.42733  ],\n",
              "       [ 11.750886 ],\n",
              "       [ 11.686558 ],\n",
              "       [ 11.770105 ],\n",
              "       [ 11.751299 ],\n",
              "       [ 76.298996 ],\n",
              "       [ 11.667563 ],\n",
              "       [ 67.20031  ],\n",
              "       [ 11.713436 ],\n",
              "       [103.71984  ],\n",
              "       [ 60.938812 ],\n",
              "       [ 63.295696 ]], dtype=float32)"
            ]
          },
          "metadata": {},
          "execution_count": 25
        }
      ]
    },
    {
      "cell_type": "code",
      "source": [
        "final_power.shape"
      ],
      "metadata": {
        "colab": {
          "base_uri": "https://localhost:8080/"
        },
        "id": "E4mIVd287Cvi",
        "outputId": "d8753430-f541-4295-a24c-6980f730b156"
      },
      "execution_count": 26,
      "outputs": [
        {
          "output_type": "execute_result",
          "data": {
            "text/plain": [
              "(313, 1)"
            ]
          },
          "metadata": {},
          "execution_count": 26
        }
      ]
    },
    {
      "cell_type": "code",
      "source": [],
      "metadata": {
        "id": "oPQgFMtPDfNM"
      },
      "execution_count": 26,
      "outputs": []
    }
  ]
}